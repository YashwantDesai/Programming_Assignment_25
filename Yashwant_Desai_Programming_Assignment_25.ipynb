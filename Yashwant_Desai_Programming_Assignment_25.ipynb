{
 "cells": [
  {
   "cell_type": "markdown",
   "id": "0c27a818",
   "metadata": {},
   "source": [
    "# Yashwant Desai –  Programming_Assingment 25"
   ]
  },
  {
   "cell_type": "markdown",
   "id": "9f377b0f",
   "metadata": {},
   "source": [
    "# Question 1"
   ]
  },
  {
   "cell_type": "markdown",
   "id": "f54f6a7f",
   "metadata": {},
   "source": [
    "Create a function that takes three integer arguments (a, b, c) and returns the amount of integers which are of equal value.\n",
    "Examples\n",
    "equal(3, 4, 3) ➞ 2\n",
    "\n",
    "equal(1, 1, 1) ➞ 3\n",
    "\n",
    "equal(3, 4, 1) ➞ 0 \n",
    "Notes\n",
    "Your function must return 0, 2 or 3."
   ]
  },
  {
   "cell_type": "code",
   "execution_count": 15,
   "id": "ce99aabc",
   "metadata": {},
   "outputs": [
    {
     "name": "stdout",
     "output_type": "stream",
     "text": [
      "equal(3,4,3) ➞ 2\n",
      "equal(1, 1, 1) ➞ 3\n",
      "equal(3, 4, 1) ➞ 0\n"
     ]
    }
   ],
   "source": [
    "def equal(a,b,c):\n",
    "    if a == b == c:\n",
    "        return 3\n",
    "    elif a == b or b == c or a == c:\n",
    "        return 2\n",
    "    else:\n",
    "        return 0\n",
    "print(f\"equal(3,4,3) ➞ {equal(3,4,3)}\")\n",
    "print(f\"equal(1, 1, 1) ➞ {equal(1, 1, 1)}\")\n",
    "print(f\"equal(3, 4, 1) ➞ {equal(3, 4, 1)}\")"
   ]
  },
  {
   "cell_type": "markdown",
   "id": "a24f0296",
   "metadata": {},
   "source": [
    "# Question2"
   ]
  },
  {
   "cell_type": "markdown",
   "id": "809be571",
   "metadata": {},
   "source": [
    "Write a function that converts a dictionary into a list of keys-values tuples.\n",
    "Examples\n",
    "dict_to_list({\n",
    "  \"D\": 1,\n",
    "  \"B\": 2,\n",
    "  \"C\": 3\n",
    "}) ➞ [(\"B\", 2), (\"C\", 3), (\"D\", 1)]\n",
    "\n",
    "dict_to_list({\n",
    "  \"likes\": 2,\n",
    "  \"dislikes\": 3,\n",
    "  \"followers\": 10\n",
    "}) ➞ [(\"dislikes\", 3), (\"followers\", 10), (\"likes\", 2)]\n",
    "Notes\n",
    "Return the elements in the list in alphabetical order."
   ]
  },
  {
   "cell_type": "code",
   "execution_count": 16,
   "id": "70bca1f3",
   "metadata": {},
   "outputs": [
    {
     "name": "stdout",
     "output_type": "stream",
     "text": [
      "dict_to_list(\"D\":1,\"B\":2,\"C\":3) ➞ [('B', 2), ('C', 3), ('D', 1)]\n",
      "dict_to_list(\"likes\": 2,\"dislikes\": 3,\"followers\": 10) ➞ [('dislikes', 3), ('followers', 10), ('likes', 2)]\n"
     ]
    }
   ],
   "source": [
    "def dict_to_list(user_dic):\n",
    "    sort_user_dic = sorted(user_dic.items())\n",
    "    return sort_user_dic\n",
    "a = (dict_to_list({\"D\":1,\"B\":2,\"C\":3}))\n",
    "print(f\"\"\"dict_to_list(\"D\":1,\"B\":2,\"C\":3) ➞ {a}\"\"\")\n",
    "b = (dict_to_list({\"likes\": 2,\"dislikes\": 3,\"followers\": 10}))\n",
    "print(f\"\"\"dict_to_list(\"likes\": 2,\"dislikes\": 3,\"followers\": 10) ➞ {b}\"\"\")\n"
   ]
  },
  {
   "cell_type": "markdown",
   "id": "0ee759a5",
   "metadata": {},
   "source": [
    "# Question3"
   ]
  },
  {
   "cell_type": "markdown",
   "id": "5be66a97",
   "metadata": {},
   "source": [
    "Write a function that creates a dictionary with each (key, value) pair being the (lower case, upper case) versions of a letter, respectively.\n",
    "Examples\n",
    "mapping([\"p\", \"s\"]) ➞ { \"p\": \"P\", \"s\": \"S\" }\n",
    "\n",
    "mapping([\"a\", \"b\", \"c\"]) ➞ { \"a\": \"A\", \"b\": \"B\", \"c\": \"C\" }\n",
    "\n",
    "mapping([\"a\", \"v\", \"y\", \"z\"]) ➞ { \"a\": \"A\", \"v\": \"V\", \"y\": \"Y\", \"z\": \"Z\" }\n",
    "Notes\n",
    "All of the letters in the input list will always be lowercase."
   ]
  },
  {
   "cell_type": "code",
   "execution_count": 20,
   "id": "fa109e90",
   "metadata": {},
   "outputs": [
    {
     "name": "stdout",
     "output_type": "stream",
     "text": [
      "mapping([\"p\",\"s\"]) ➞ {'p': 'P', 's': 'S'}\n",
      "mapping([\"a\", \"b\", \"c\"]) ➞ {'a': 'A', 'b': 'B', 'c': 'C'}\n",
      "mapping([\"a\", \"v\", \"y\", \"z\"]) ➞ {'a': 'A', 'v': 'V', 'y': 'Y', 'z': 'Z'}\n"
     ]
    }
   ],
   "source": [
    "def mapping(user_lists):\n",
    "    user_dict = {}\n",
    "    for user_list in user_lists:\n",
    "        user_dict[user_list] = user_list.upper()\n",
    "    return user_dict\n",
    "print(f\"\"\"mapping([\"p\",\"s\"]) ➞ {mapping([\"p\",\"s\"])}\"\"\")\n",
    "print(f\"\"\"mapping([\"a\", \"b\", \"c\"]) ➞ {mapping([\"a\", \"b\", \"c\"])}\"\"\")\n",
    "print(f\"\"\"mapping([\"a\", \"v\", \"y\", \"z\"]) ➞ {mapping([\"a\", \"v\", \"y\", \"z\"])}\"\"\")        "
   ]
  },
  {
   "cell_type": "markdown",
   "id": "5fcb268f",
   "metadata": {},
   "source": [
    "# Question4"
   ]
  },
  {
   "cell_type": "markdown",
   "id": "12a5461b",
   "metadata": {},
   "source": [
    "Write a function, that replaces all vowels in a string with a specified vowel.\n",
    "Examples\n",
    "vow_replace(\"apples and bananas\", \"u\") ➞ \"upplus und bununus\"\n",
    "\n",
    "vow_replace(\"cheese casserole\", \"o\") ➞ \"chooso cossorolo\"\n",
    "\n",
    "vow_replace(\"stuffed jalapeno poppers\", \"e\") ➞ \"steffed jelepene peppers\"\n",
    "Notes\n",
    "All words will be lowercase. Y is not considered a vowel."
   ]
  },
  {
   "cell_type": "code",
   "execution_count": 27,
   "id": "9f837355",
   "metadata": {},
   "outputs": [
    {
     "name": "stdout",
     "output_type": "stream",
     "text": [
      "vow_replace(\"apples and bananas\", \"u\") ➞ upplus und bununus\n",
      "vow_replace(\"cheese casserole\", \"o\") ➞ chooso cossorolo\n",
      "vow_replace(\"stuffed jalapeno poppers\", \"e\") ➞ steffed jelepene peppers\n"
     ]
    }
   ],
   "source": [
    "def vow_replace(user_str,replace_str):\n",
    "    vowels = \"aeiou\"\n",
    "    result = \"\"\n",
    "    for char in user_str:\n",
    "        if char in vowels:\n",
    "            result += replace_str\n",
    "        else:\n",
    "            result += char\n",
    "    return result\n",
    "\n",
    "print(f\"\"\"vow_replace(\"apples and bananas\", \"u\") ➞ {vow_replace(\"apples and bananas\", \"u\")}\"\"\")\n",
    "print(f\"\"\"vow_replace(\"cheese casserole\", \"o\") ➞ {vow_replace(\"cheese casserole\", \"o\")}\"\"\")\n",
    "print(f\"\"\"vow_replace(\"stuffed jalapeno poppers\", \"e\") ➞ {vow_replace(\"stuffed jalapeno poppers\", \"e\")}\"\"\")"
   ]
  },
  {
   "cell_type": "markdown",
   "id": "b6af7bb9",
   "metadata": {},
   "source": [
    "# Question5"
   ]
  },
  {
   "cell_type": "markdown",
   "id": "4577cd3d",
   "metadata": {},
   "source": [
    "Create a function that takes a string as input and capitalizes a letter if its ASCII code is even and returns its lower case version if its ASCII code is odd.\n",
    "Examples\n",
    "ascii_capitalize(\"to be or not to be!\") ➞ \"To Be oR NoT To Be!\"\n",
    "\n",
    "ascii_capitalize(\"THE LITTLE MERMAID\") ➞ \"THe LiTTLe meRmaiD\"\n",
    "\n",
    "ascii_capitalize(\"Oh what a beautiful morning.\") ➞ \"oH wHaT a BeauTiFuL moRNiNg.\""
   ]
  },
  {
   "cell_type": "code",
   "execution_count": 32,
   "id": "288f8f2c",
   "metadata": {},
   "outputs": [
    {
     "name": "stdout",
     "output_type": "stream",
     "text": [
      "ascii_capitalize(\"to be or not to be!\") ➞ To Be oR NoT To Be!\n",
      "ascii_capitalize(\"THE LITTLE MERMAID\") ➞ THe LiTTLe meRmaiD\n",
      "ascii_capitalize(\"Oh what a beautiful morning.\") ➞ oH wHaT a BeauTiFuL moRNiNg.\n"
     ]
    }
   ],
   "source": [
    "def ascii_capitalize(user_str):\n",
    "    result = \"\"\n",
    "    for char in user_str:\n",
    "        if ord(char) % 2 == 0:\n",
    "            result += char.upper()\n",
    "        else:\n",
    "            result += char.lower()\n",
    "    return result\n",
    "print(f\"\"\"ascii_capitalize(\"to be or not to be!\") ➞ {ascii_capitalize(\"to be or not to be!\")}\"\"\")\n",
    "print(f\"\"\"ascii_capitalize(\"THE LITTLE MERMAID\") ➞ {ascii_capitalize(\"THE LITTLE MERMAID\")}\"\"\")\n",
    "print(f\"\"\"ascii_capitalize(\"Oh what a beautiful morning.\") ➞ {ascii_capitalize(\"Oh what a beautiful morning.\")}\"\"\")"
   ]
  },
  {
   "cell_type": "markdown",
   "id": "a79c0885",
   "metadata": {},
   "source": [
    "# Done Regards,Yashwant"
   ]
  }
 ],
 "metadata": {
  "kernelspec": {
   "display_name": "Python 3 (ipykernel)",
   "language": "python",
   "name": "python3"
  },
  "language_info": {
   "codemirror_mode": {
    "name": "ipython",
    "version": 3
   },
   "file_extension": ".py",
   "mimetype": "text/x-python",
   "name": "python",
   "nbconvert_exporter": "python",
   "pygments_lexer": "ipython3",
   "version": "3.9.13"
  }
 },
 "nbformat": 4,
 "nbformat_minor": 5
}
